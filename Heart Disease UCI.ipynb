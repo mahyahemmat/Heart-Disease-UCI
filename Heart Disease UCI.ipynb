{
 "cells": [
  {
   "cell_type": "markdown",
   "id": "3fff2acb-00c3-4a63-85b9-509359809e84",
   "metadata": {},
   "source": [
    "# Table of contents\n",
    "1. [Introduction](#introduction)\n",
    "2. [Analysis](#paragraph1)\n",
    "    1. [Sex](#subparagraph1)\n",
    "    2. [Age](#subparagraph2)\n",
    "    3. [Cholestoral](#subparagraph3)\n",
    "3. [Model](#paragraph2)\n",
    "\n"
   ]
  },
  {
   "cell_type": "markdown",
   "id": "e025f8ee",
   "metadata": {},
   "source": [
    "## Introduction <a name=\"introduction\"></a>\n",
    "\n",
    "Some introduction text, formatted in heading 2 style\n",
    "\n",
    "\n",
    "### Context\n",
    "This database contains 76 attributes, but all published experiments refer to using a subset of 14 of them. In particular, the Cleveland database is the only one that has been used by ML researchers to\n",
    "this date. The \"goal\" field refers to the presence of heart disease in the patient. It is integer valued from 0 (no presence) to 4.\n",
    "\n",
    "### Attribute Information:\n",
    "\n",
    "- age\n",
    "- sex\n",
    "- chest pain type (4 values)\n",
    "- resting blood pressure\n",
    "- serum cholestoral in mg/dl\n",
    "- fasting blood sugar > 120 mg/dl\n",
    "- resting electrocardiographic results (values 0,1,2)\n",
    "- maximum heart rate achieved\n",
    "- exercise induced angina\n",
    "- oldpeak = ST depression induced by exercise relative to rest\n",
    "- the slope of the peak exercise ST segment\n",
    "- number of major vessels (0-3) colored by flourosopy\n",
    "- thal: 3 = normal; 6 = fixed defect; 7 = reversable defect\n",
    "- target=0 or 1 (no heart disease or heart disease)"
   ]
  },
  {
   "cell_type": "markdown",
   "id": "51695235-4be6-4c5c-9c15-07f1cd2a9372",
   "metadata": {},
   "source": [
    "## Acknowledgements\n",
    "Creators:\n",
    "\n",
    "- Hungarian Institute of Cardiology. Budapest: Andras Janosi, M.D.\n",
    "- University Hospital, Zurich, Switzerland: William Steinbrunn, M.D.\n",
    "- University Hospital, Basel, Switzerland: Matthias Pfisterer, M.D.\n",
    "- V.A. Medical Center, Long Beach and Cleveland Clinic Foundation: Robert Detrano, M.D., Ph.D.\n",
    "Donor:\n",
    "- David W. Aha (aha '@' ics.uci.edu) (714) 856-8779\n",
    "\n",
    "https://www.kaggle.com/ronitf/heart-disease-uci\n",
    "\n",
    "## Inspiration\n",
    "Experiments with the Cleveland database have concentrated on simply attempting to distinguish presence (values 1,2,3,4) from absence (value 0).\n",
    "\n",
    "See if you can find any other trends in heart data to predict certain cardiovascular events or find any clear indications of heart health."
   ]
  },
  {
   "cell_type": "markdown",
   "id": "cfe472b7-4141-44de-8bb2-266317503300",
   "metadata": {},
   "source": [
    "### Importing modules"
   ]
  },
  {
   "cell_type": "code",
   "execution_count": 202,
   "id": "0dd7a460-70e3-4add-b14b-5cc0d892854d",
   "metadata": {},
   "outputs": [],
   "source": [
    "import pandas as pd\n",
    "import numpy as np\n",
    "import matplotlib.pyplot as plt\n",
    "import pandas as pd\n",
    "import sklearn\n",
    "import seaborn as sns; sns.set()\n",
    "from sklearn.pipeline import make_pipeline"
   ]
  },
  {
   "cell_type": "markdown",
   "id": "e467b6e1",
   "metadata": {},
   "source": [
    "#### Data import and inspection"
   ]
  },
  {
   "cell_type": "code",
   "execution_count": 141,
   "id": "2ed9c011-6952-4eac-a8ca-5741d3846d49",
   "metadata": {},
   "outputs": [
    {
     "name": "stdout",
     "output_type": "stream",
     "text": [
      "(303, 14)\n",
      "Original Dataset: Index(['age', 'sex', 'cp', 'trestbps', 'chol', 'fbs', 'restecg', 'thalach',\n",
      "       'exang', 'oldpeak', 'slope', 'ca', 'thal', 'target'],\n",
      "      dtype='object')\n"
     ]
    },
    {
     "data": {
      "text/html": [
       "<div>\n",
       "<style scoped>\n",
       "    .dataframe tbody tr th:only-of-type {\n",
       "        vertical-align: middle;\n",
       "    }\n",
       "\n",
       "    .dataframe tbody tr th {\n",
       "        vertical-align: top;\n",
       "    }\n",
       "\n",
       "    .dataframe thead th {\n",
       "        text-align: right;\n",
       "    }\n",
       "</style>\n",
       "<table border=\"1\" class=\"dataframe\">\n",
       "  <thead>\n",
       "    <tr style=\"text-align: right;\">\n",
       "      <th></th>\n",
       "      <th>age</th>\n",
       "      <th>sex</th>\n",
       "      <th>cp</th>\n",
       "      <th>restbp</th>\n",
       "      <th>chol</th>\n",
       "      <th>fbs</th>\n",
       "      <th>restecg</th>\n",
       "      <th>hrateach</th>\n",
       "      <th>exang</th>\n",
       "      <th>oldpeak</th>\n",
       "      <th>slope</th>\n",
       "      <th>mvessel</th>\n",
       "      <th>hrate</th>\n",
       "      <th>target</th>\n",
       "    </tr>\n",
       "  </thead>\n",
       "  <tbody>\n",
       "    <tr>\n",
       "      <th>0</th>\n",
       "      <td>63</td>\n",
       "      <td>1</td>\n",
       "      <td>3</td>\n",
       "      <td>145</td>\n",
       "      <td>233</td>\n",
       "      <td>1</td>\n",
       "      <td>0</td>\n",
       "      <td>150</td>\n",
       "      <td>0</td>\n",
       "      <td>2.3</td>\n",
       "      <td>0</td>\n",
       "      <td>0</td>\n",
       "      <td>1</td>\n",
       "      <td>1</td>\n",
       "    </tr>\n",
       "    <tr>\n",
       "      <th>1</th>\n",
       "      <td>37</td>\n",
       "      <td>1</td>\n",
       "      <td>2</td>\n",
       "      <td>130</td>\n",
       "      <td>250</td>\n",
       "      <td>0</td>\n",
       "      <td>1</td>\n",
       "      <td>187</td>\n",
       "      <td>0</td>\n",
       "      <td>3.5</td>\n",
       "      <td>0</td>\n",
       "      <td>0</td>\n",
       "      <td>2</td>\n",
       "      <td>1</td>\n",
       "    </tr>\n",
       "    <tr>\n",
       "      <th>2</th>\n",
       "      <td>41</td>\n",
       "      <td>0</td>\n",
       "      <td>1</td>\n",
       "      <td>130</td>\n",
       "      <td>204</td>\n",
       "      <td>0</td>\n",
       "      <td>0</td>\n",
       "      <td>172</td>\n",
       "      <td>0</td>\n",
       "      <td>1.4</td>\n",
       "      <td>2</td>\n",
       "      <td>0</td>\n",
       "      <td>2</td>\n",
       "      <td>1</td>\n",
       "    </tr>\n",
       "    <tr>\n",
       "      <th>3</th>\n",
       "      <td>56</td>\n",
       "      <td>1</td>\n",
       "      <td>1</td>\n",
       "      <td>120</td>\n",
       "      <td>236</td>\n",
       "      <td>0</td>\n",
       "      <td>1</td>\n",
       "      <td>178</td>\n",
       "      <td>0</td>\n",
       "      <td>0.8</td>\n",
       "      <td>2</td>\n",
       "      <td>0</td>\n",
       "      <td>2</td>\n",
       "      <td>1</td>\n",
       "    </tr>\n",
       "    <tr>\n",
       "      <th>4</th>\n",
       "      <td>57</td>\n",
       "      <td>0</td>\n",
       "      <td>0</td>\n",
       "      <td>120</td>\n",
       "      <td>354</td>\n",
       "      <td>0</td>\n",
       "      <td>1</td>\n",
       "      <td>163</td>\n",
       "      <td>1</td>\n",
       "      <td>0.6</td>\n",
       "      <td>2</td>\n",
       "      <td>0</td>\n",
       "      <td>2</td>\n",
       "      <td>1</td>\n",
       "    </tr>\n",
       "  </tbody>\n",
       "</table>\n",
       "</div>"
      ],
      "text/plain": [
       "   age  sex  cp  restbp  chol  fbs  restecg  hrateach  exang  oldpeak  slope  \\\n",
       "0   63    1   3     145   233    1        0       150      0      2.3      0   \n",
       "1   37    1   2     130   250    0        1       187      0      3.5      0   \n",
       "2   41    0   1     130   204    0        0       172      0      1.4      2   \n",
       "3   56    1   1     120   236    0        1       178      0      0.8      2   \n",
       "4   57    0   0     120   354    0        1       163      1      0.6      2   \n",
       "\n",
       "   mvessel  hrate  target  \n",
       "0        0      1       1  \n",
       "1        0      2       1  \n",
       "2        0      2       1  \n",
       "3        0      2       1  \n",
       "4        0      2       1  "
      ]
     },
     "execution_count": 141,
     "metadata": {},
     "output_type": "execute_result"
    }
   ],
   "source": [
    "dataset = pd.read_csv('Heart.csv')\n",
    "print(dataset.shape)\n",
    "print('Original Dataset:',dataset.columns)\n",
    "df = dataset.rename(columns={'trestbps': 'restbp', 'thalach': 'hrateach', 'ca':'mvessel', 'thal':'hrate'})\n",
    "df.head()"
   ]
  },
  {
   "cell_type": "markdown",
   "id": "f4c452a7",
   "metadata": {},
   "source": [
    "Seeing how the target (y) is distributed"
   ]
  },
  {
   "cell_type": "code",
   "execution_count": 128,
   "id": "8e5a1790",
   "metadata": {},
   "outputs": [
    {
     "data": {
      "image/png": "[encoded data removed]",
      "text/plain": [
       "<Figure size 432x288 with 1 Axes>"
      ]
     },
     "metadata": {},
     "output_type": "display_data"
    }
   ],
   "source": [
    "df_target = df.groupby(\"target\").size()\n",
    "plt.pie(df_target.values, labels = [\"target 0\", \"target 1\"], autopct='%1.1f%%', radius = 1.2, textprops = {\"fontsize\" : 14}) \n",
    "plt.show()"
   ]
  },
  {
   "cell_type": "markdown",
   "id": "00a5ad2b",
   "metadata": {},
   "source": [
    "##### Observation: \n",
    "- The target is not skewed significantly with more than 50% diagnosed with heart disease"
   ]
  },
  {
   "cell_type": "markdown",
   "id": "c4da91ec-fea4-4346-bd71-1ee195fb1d9c",
   "metadata": {},
   "source": [
    "### Data Cleaning"
   ]
  },
  {
   "cell_type": "code",
   "execution_count": 129,
   "id": "9bd85eb1",
   "metadata": {},
   "outputs": [
    {
     "name": "stdout",
     "output_type": "stream",
     "text": [
      "<class 'pandas.core.frame.DataFrame'>\n",
      "RangeIndex: 303 entries, 0 to 302\n",
      "Data columns (total 14 columns):\n",
      " #   Column    Non-Null Count  Dtype  \n",
      "---  ------    --------------  -----  \n",
      " 0   age       303 non-null    int64  \n",
      " 1   sex       303 non-null    int64  \n",
      " 2   cp        303 non-null    int64  \n",
      " 3   restbp    303 non-null    int64  \n",
      " 4   chol      303 non-null    int64  \n",
      " 5   fbs       303 non-null    int64  \n",
      " 6   restecg   303 non-null    int64  \n",
      " 7   hrateach  303 non-null    int64  \n",
      " 8   exang     303 non-null    int64  \n",
      " 9   oldpeak   303 non-null    float64\n",
      " 10  slope     303 non-null    int64  \n",
      " 11  mvessel   303 non-null    int64  \n",
      " 12  hrate     303 non-null    int64  \n",
      " 13  target    303 non-null    int64  \n",
      "dtypes: float64(1), int64(13)\n",
      "memory usage: 33.3 KB\n"
     ]
    }
   ],
   "source": [
    "#print(df.dtypes)\n",
    "df.info()"
   ]
  },
  {
   "cell_type": "markdown",
   "id": "34bc9cb1",
   "metadata": {},
   "source": [
    "All data types are consistent, numeric and there no need for further conversion or null dropping."
   ]
  },
  {
   "cell_type": "markdown",
   "id": "e0f0a25c",
   "metadata": {},
   "source": [
    "Checking for missing values through missingno:\n",
    "- Missingno is a Python library that provides the ability to understand the distribution of missing values through informative visualizations"
   ]
  },
  {
   "cell_type": "code",
   "execution_count": 130,
   "id": "309fdd30",
   "metadata": {},
   "outputs": [
    {
     "data": {
      "text/plain": [
       "<AxesSubplot:>"
      ]
     },
     "execution_count": 130,
     "metadata": {},
     "output_type": "execute_result"
    },
    {
     "data": {
      "image/png": "[encoded data removed]",
      "text/plain": [
       "<Figure size 1800x720 with 2 Axes>"
      ]
     },
     "metadata": {},
     "output_type": "display_data"
    }
   ],
   "source": [
    "# !pip install missingno\n",
    "import missingno as msno\n",
    "msno.matrix(df)"
   ]
  },
  {
   "cell_type": "markdown",
   "id": "485103cb",
   "metadata": {},
   "source": [
    "##### Observation: \n",
    "No missing values"
   ]
  },
  {
   "cell_type": "markdown",
   "id": "e228c997",
   "metadata": {},
   "source": [
    "Histograms of each feature (inspecting for outliers, values, distribution):"
   ]
  },
  {
   "cell_type": "code",
   "execution_count": 131,
   "id": "3e22d37e",
   "metadata": {},
   "outputs": [
    {
     "data": {
      "image/png": "[encoded data removed]",
      "text/plain": [
       "<Figure size 1080x1080 with 14 Axes>"
      ]
     },
     "metadata": {},
     "output_type": "display_data"
    }
   ],
   "source": [
    "def draw_histograms(df, variables, n_rows, n_cols):\n",
    "    fig=plt.figure(figsize=(15,15))\n",
    "    for i, var_name in enumerate(variables):\n",
    "        ax=fig.add_subplot(n_rows,n_cols,i+1)\n",
    "        df[var_name].hist(bins=10,ax=ax, alpha=0.8)\n",
    "        ax.set_title(var_name+\" Distribution\")\n",
    "    fig.tight_layout()  # Improves appearance a bit.\n",
    "    plt.show()\n",
    "\n",
    "draw_histograms(df, df.columns, 5, 3)\n",
    "# X = dataset['chol']\n",
    "# ax = X.hist(bins=15, alpha=0.5)"
   ]
  },
  {
   "cell_type": "markdown",
   "id": "3bf123ae",
   "metadata": {},
   "source": [
    "Correlation of different features"
   ]
  },
  {
   "cell_type": "code",
   "execution_count": 132,
   "id": "e2d000da",
   "metadata": {},
   "outputs": [
    {
     "data": {
      "image/png": "[encoded data removed]",
      "text/plain": [
       "<Figure size 1440x720 with 2 Axes>"
      ]
     },
     "metadata": {},
     "output_type": "display_data"
    }
   ],
   "source": [
    "corr=df.corr(method='pearson').round(2)\n",
    "\n",
    "plt.figure(figsize=(20,10))\n",
    "plt.matshow(corr,fignum=1)\n",
    "plt.xticks(range(df.select_dtypes(['number']).shape[1]), df.select_dtypes(['number']).columns, fontsize=14, rotation=45)\n",
    "plt.yticks(range(df.select_dtypes(['number']).shape[1]), df.select_dtypes(['number']).columns, fontsize=14)\n",
    "\n",
    "cb = plt.colorbar()"
   ]
  },
  {
   "cell_type": "markdown",
   "id": "d17efa05",
   "metadata": {},
   "source": [
    "Sorting features based on their correlation to target value:"
   ]
  },
  {
   "cell_type": "code",
   "execution_count": 133,
   "id": "3a6d6853",
   "metadata": {},
   "outputs": [
    {
     "data": {
      "text/plain": [
       "<AxesSubplot:>"
      ]
     },
     "execution_count": 133,
     "metadata": {},
     "output_type": "execute_result"
    },
    {
     "data": {
      "image/png": "[encoded data removed]",
      "text/plain": [
       "<Figure size 432x288 with 1 Axes>"
      ]
     },
     "metadata": {},
     "output_type": "display_data"
    }
   ],
   "source": [
    "abs(corr['target']).sort_values()[:-1].plot.barh()"
   ]
  },
  {
   "cell_type": "markdown",
   "id": "2b17f168",
   "metadata": {},
   "source": [
    "Looks like the target is highly correlated with: (top 5)\n",
    "1. Exercise induced angina\n",
    "2. Old Peak\n",
    "3. Chest Pain\n",
    "4. maximum Heart rate achieved\n",
    "5. Number of major blood vessels "
   ]
  },
  {
   "cell_type": "markdown",
   "id": "b052c636",
   "metadata": {},
   "source": [
    "## Analysis <a name=\"paragraph1\"></a>\n",
    "Here we take a closer look at some of the commonly known features (among public opinion) and their heart disease distribution among them.\n",
    "Such as:\n",
    "- Gender\n",
    "- Age\n",
    "- Cholestoral\n",
    "\n",
    "### Gender analysis: Male/Female <a name=\"subparagraph1\"></a>\n",
    "To see whether gender has a significant effect on the heart disease status, we plot the histogram of the target distribution among different genders.\n"
   ]
  },
  {
   "cell_type": "code",
   "execution_count": 184,
   "id": "c7484426",
   "metadata": {},
   "outputs": [
    {
     "data": {
      "image/png": "[encoded data removed]",
      "text/plain": [
       "<Figure size 360x288 with 1 Axes>"
      ]
     },
     "metadata": {},
     "output_type": "display_data"
    }
   ],
   "source": [
    "labels=['Normal','Heart Disease']\n",
    "total_cnt = df['target'].count()\n",
    "plt.figure(figsize=(5,4))\n",
    "sns.set(font_scale = 1)\n",
    "sns.set_style(\"white\")\n",
    "ax = sns.countplot(data=df, x='sex',hue='target',palette='Blues_r')\n",
    "for p in ax.patches:\n",
    "    x, height, width = p.get_x(), p.get_height(), p.get_width()\n",
    "    ax.text(x + width / 2, height + 10, f'{height} / {height / total_cnt * 100:2.1f}%', va='center', ha='center', size=12)\n",
    "plt.legend(labels=labels)\n",
    "\n",
    "sns.despine()"
   ]
  },
  {
   "cell_type": "markdown",
   "id": "71051a57",
   "metadata": {},
   "source": [
    "Observation:\n",
    "- Heart disease is more common among men (sex=1) than women"
   ]
  },
  {
   "cell_type": "markdown",
   "id": "9628c411",
   "metadata": {},
   "source": [
    "### Age analysis <a name=\"subparagraph2\"></a>\n",
    "Here we examine if heart disease has any trend or correlation with age"
   ]
  },
  {
   "cell_type": "code",
   "execution_count": 190,
   "id": "c74b9bc2",
   "metadata": {},
   "outputs": [
    {
     "data": {
      "image/png": "[encoded data removed]",
      "text/plain": [
       "<Figure size 432x288 with 1 Axes>"
      ]
     },
     "metadata": {},
     "output_type": "display_data"
    },
    {
     "name": "stdout",
     "output_type": "stream",
     "text": [
      "Average age of people with normal heart condition: 56.6\n",
      "Average age of people with heart Disease: 52.5\n"
     ]
    }
   ],
   "source": [
    "plt.hist([df[df.target==0].age, df[df.target==1].age], bins = 20, alpha = 0.5, label = [\"Normal\",\"Heart disease\"])\n",
    "plt.xlabel(\"Age\")\n",
    "plt.ylabel(\"percentage\")\n",
    "plt.legend()\n",
    "plt.show()\n",
    "print('Average age of people with normal heart condition:',df[df.target==0].age.values.mean().round(2))\n",
    "print('Average age of people with heart Disease:',df[df.target==1].age.values.mean().round(2))"
   ]
  },
  {
   "cell_type": "markdown",
   "id": "b7a44ab4",
   "metadata": {},
   "source": [
    "Observation:\n",
    "- Looks like the distribution of heart disease peaks around 52 years old \n",
    "- Age is not a major indicator of heart disease"
   ]
  },
  {
   "cell_type": "markdown",
   "id": "03296185",
   "metadata": {},
   "source": [
    "### Cholestoral analysis (mg/dl) <a name=\"subparagraph3\"></a>\n",
    "Too much cholesterol – good or bad – can be harmful to the heart. High blood cholesterol can lead to \"hardening of the arteries\" and over time cause blood flow to and from the heart to slow down or become blocked. A person is considered at high risk for developing heart disease if their total cholesterol level is higher than 240 mg/dL, LDL levels are higher than 160 mg/dL (190 mg/dL is even higher risk), and if the HDL level is below 40 mg/dL."
   ]
  },
  {
   "cell_type": "code",
   "execution_count": 193,
   "id": "0b97fac3",
   "metadata": {},
   "outputs": [
    {
     "data": {
      "image/png": "[encoded data removed]",
      "text/plain": [
       "<Figure size 432x288 with 1 Axes>"
      ]
     },
     "metadata": {},
     "output_type": "display_data"
    },
    {
     "name": "stdout",
     "output_type": "stream",
     "text": [
      "Average Cholestoral level of people with normal heart condition: 251.09\n",
      "Average cholestoral level of people with heart Disease: 242.23\n"
     ]
    }
   ],
   "source": [
    "plt.hist([df[df.target==0].chol, df[df.target==1].chol], bins = 20, alpha = 0.5, label = [\"Normal\",\"Heart disease\"])\n",
    "plt.xlabel(\"Age\")\n",
    "plt.ylabel(\"percentage\")\n",
    "plt.legend()\n",
    "plt.show()\n",
    "print('Average Cholestoral level of people with normal heart condition:',df[df.target==0].chol.values.mean().round(2))\n",
    "print('Average cholestoral level of people with heart Disease:',df[df.target==1].chol.values.mean().round(2))"
   ]
  },
  {
   "cell_type": "markdown",
   "id": "43e9fe2d",
   "metadata": {},
   "source": [
    "## Model <a name=\"paragraph2\"></a>\n",
    "\n",
    "Since target value (heart disease=1 or 0) is binary, and the features are all numeric, the problem is a binary classification with small set of data (303 dataset, 14 features).\n",
    "We build the model pipeline as below:\n",
    "- preparing the datasets (choose X, Y)\n",
    "- Train/test data split\n",
    "- Standardize X features (normalize, centralize)\n",
    "- Choose algorithms for classification\n",
    "- Predict target vaoues for X-test\n",
    "- Compare different model results (confusion matrix)"
   ]
  },
  {
   "cell_type": "markdown",
   "id": "3c4bf10b",
   "metadata": {},
   "source": [
    "Preparing the feature values: mapping multiclass features via one-hot encoding"
   ]
  },
  {
   "cell_type": "code",
   "execution_count": 196,
   "id": "bfb208f9",
   "metadata": {},
   "outputs": [
    {
     "data": {
      "text/html": [
       "<div>\n",
       "<style scoped>\n",
       "    .dataframe tbody tr th:only-of-type {\n",
       "        vertical-align: middle;\n",
       "    }\n",
       "\n",
       "    .dataframe tbody tr th {\n",
       "        vertical-align: top;\n",
       "    }\n",
       "\n",
       "    .dataframe thead th {\n",
       "        text-align: right;\n",
       "    }\n",
       "</style>\n",
       "<table border=\"1\" class=\"dataframe\">\n",
       "  <thead>\n",
       "    <tr style=\"text-align: right;\">\n",
       "      <th></th>\n",
       "      <th>age</th>\n",
       "      <th>sex</th>\n",
       "      <th>cp</th>\n",
       "      <th>restbp</th>\n",
       "      <th>chol</th>\n",
       "      <th>fbs</th>\n",
       "      <th>restecg</th>\n",
       "      <th>hrateach</th>\n",
       "      <th>exang</th>\n",
       "      <th>oldpeak</th>\n",
       "      <th>slope</th>\n",
       "      <th>mvessel</th>\n",
       "      <th>hrate</th>\n",
       "      <th>target</th>\n",
       "    </tr>\n",
       "  </thead>\n",
       "  <tbody>\n",
       "    <tr>\n",
       "      <th>0</th>\n",
       "      <td>63</td>\n",
       "      <td>1</td>\n",
       "      <td>non-anginal pain</td>\n",
       "      <td>145</td>\n",
       "      <td>233</td>\n",
       "      <td>1</td>\n",
       "      <td>0</td>\n",
       "      <td>150</td>\n",
       "      <td>exercise did not induce angina</td>\n",
       "      <td>2.3</td>\n",
       "      <td>flat</td>\n",
       "      <td>0</td>\n",
       "      <td>normal</td>\n",
       "      <td>1</td>\n",
       "    </tr>\n",
       "    <tr>\n",
       "      <th>1</th>\n",
       "      <td>37</td>\n",
       "      <td>1</td>\n",
       "      <td>atypical angina</td>\n",
       "      <td>130</td>\n",
       "      <td>250</td>\n",
       "      <td>0</td>\n",
       "      <td>1</td>\n",
       "      <td>187</td>\n",
       "      <td>exercise did not induce angina</td>\n",
       "      <td>3.5</td>\n",
       "      <td>flat</td>\n",
       "      <td>0</td>\n",
       "      <td>fixed defect</td>\n",
       "      <td>1</td>\n",
       "    </tr>\n",
       "    <tr>\n",
       "      <th>2</th>\n",
       "      <td>41</td>\n",
       "      <td>0</td>\n",
       "      <td>typical angina</td>\n",
       "      <td>130</td>\n",
       "      <td>204</td>\n",
       "      <td>0</td>\n",
       "      <td>0</td>\n",
       "      <td>172</td>\n",
       "      <td>exercise did not induce angina</td>\n",
       "      <td>1.4</td>\n",
       "      <td>downsloping</td>\n",
       "      <td>0</td>\n",
       "      <td>fixed defect</td>\n",
       "      <td>1</td>\n",
       "    </tr>\n",
       "    <tr>\n",
       "      <th>3</th>\n",
       "      <td>56</td>\n",
       "      <td>1</td>\n",
       "      <td>typical angina</td>\n",
       "      <td>120</td>\n",
       "      <td>236</td>\n",
       "      <td>0</td>\n",
       "      <td>1</td>\n",
       "      <td>178</td>\n",
       "      <td>exercise did not induce angina</td>\n",
       "      <td>0.8</td>\n",
       "      <td>downsloping</td>\n",
       "      <td>0</td>\n",
       "      <td>fixed defect</td>\n",
       "      <td>1</td>\n",
       "    </tr>\n",
       "    <tr>\n",
       "      <th>4</th>\n",
       "      <td>57</td>\n",
       "      <td>0</td>\n",
       "      <td>asymptomatic</td>\n",
       "      <td>120</td>\n",
       "      <td>354</td>\n",
       "      <td>0</td>\n",
       "      <td>1</td>\n",
       "      <td>163</td>\n",
       "      <td>exercise induced angina</td>\n",
       "      <td>0.6</td>\n",
       "      <td>downsloping</td>\n",
       "      <td>0</td>\n",
       "      <td>fixed defect</td>\n",
       "      <td>1</td>\n",
       "    </tr>\n",
       "  </tbody>\n",
       "</table>\n",
       "</div>"
      ],
      "text/plain": [
       "   age  sex                cp  restbp  chol  fbs  restecg  hrateach  \\\n",
       "0   63    1  non-anginal pain     145   233    1        0       150   \n",
       "1   37    1   atypical angina     130   250    0        1       187   \n",
       "2   41    0    typical angina     130   204    0        0       172   \n",
       "3   56    1    typical angina     120   236    0        1       178   \n",
       "4   57    0      asymptomatic     120   354    0        1       163   \n",
       "\n",
       "                            exang  oldpeak        slope  mvessel  \\\n",
       "0  exercise did not induce angina      2.3         flat        0   \n",
       "1  exercise did not induce angina      3.5         flat        0   \n",
       "2  exercise did not induce angina      1.4  downsloping        0   \n",
       "3  exercise did not induce angina      0.8  downsloping        0   \n",
       "4         exercise induced angina      0.6  downsloping        0   \n",
       "\n",
       "          hrate  target  \n",
       "0        normal       1  \n",
       "1  fixed defect       1  \n",
       "2  fixed defect       1  \n",
       "3  fixed defect       1  \n",
       "4  fixed defect       1  "
      ]
     },
     "execution_count": 196,
     "metadata": {},
     "output_type": "execute_result"
    }
   ],
   "source": [
    "df_new=df.copy()\n",
    "df_new.head()"
   ]
  },
  {
   "cell_type": "code",
   "execution_count": 148,
   "id": "89ddb513",
   "metadata": {},
   "outputs": [
    {
     "data": {
      "text/html": [
       "<div>\n",
       "<style scoped>\n",
       "    .dataframe tbody tr th:only-of-type {\n",
       "        vertical-align: middle;\n",
       "    }\n",
       "\n",
       "    .dataframe tbody tr th {\n",
       "        vertical-align: top;\n",
       "    }\n",
       "\n",
       "    .dataframe thead th {\n",
       "        text-align: right;\n",
       "    }\n",
       "</style>\n",
       "<table border=\"1\" class=\"dataframe\">\n",
       "  <thead>\n",
       "    <tr style=\"text-align: right;\">\n",
       "      <th></th>\n",
       "      <th>age</th>\n",
       "      <th>sex</th>\n",
       "      <th>restbp</th>\n",
       "      <th>chol</th>\n",
       "      <th>fbs</th>\n",
       "      <th>restecg</th>\n",
       "      <th>hrateach</th>\n",
       "      <th>oldpeak</th>\n",
       "      <th>mvessel</th>\n",
       "      <th>target</th>\n",
       "      <th>cp_atypical angina</th>\n",
       "      <th>cp_non-anginal pain</th>\n",
       "      <th>cp_typical angina</th>\n",
       "      <th>exang_exercise induced angina</th>\n",
       "      <th>slope_flat</th>\n",
       "      <th>slope_upsloping</th>\n",
       "      <th>hrate_normal</th>\n",
       "      <th>hrate_reversable defect</th>\n",
       "    </tr>\n",
       "  </thead>\n",
       "  <tbody>\n",
       "    <tr>\n",
       "      <th>0</th>\n",
       "      <td>63</td>\n",
       "      <td>1</td>\n",
       "      <td>145</td>\n",
       "      <td>233</td>\n",
       "      <td>1</td>\n",
       "      <td>0</td>\n",
       "      <td>150</td>\n",
       "      <td>2.3</td>\n",
       "      <td>0</td>\n",
       "      <td>1</td>\n",
       "      <td>0</td>\n",
       "      <td>1</td>\n",
       "      <td>0</td>\n",
       "      <td>0</td>\n",
       "      <td>1</td>\n",
       "      <td>0</td>\n",
       "      <td>1</td>\n",
       "      <td>0</td>\n",
       "    </tr>\n",
       "    <tr>\n",
       "      <th>1</th>\n",
       "      <td>37</td>\n",
       "      <td>1</td>\n",
       "      <td>130</td>\n",
       "      <td>250</td>\n",
       "      <td>0</td>\n",
       "      <td>1</td>\n",
       "      <td>187</td>\n",
       "      <td>3.5</td>\n",
       "      <td>0</td>\n",
       "      <td>1</td>\n",
       "      <td>1</td>\n",
       "      <td>0</td>\n",
       "      <td>0</td>\n",
       "      <td>0</td>\n",
       "      <td>1</td>\n",
       "      <td>0</td>\n",
       "      <td>0</td>\n",
       "      <td>0</td>\n",
       "    </tr>\n",
       "    <tr>\n",
       "      <th>2</th>\n",
       "      <td>41</td>\n",
       "      <td>0</td>\n",
       "      <td>130</td>\n",
       "      <td>204</td>\n",
       "      <td>0</td>\n",
       "      <td>0</td>\n",
       "      <td>172</td>\n",
       "      <td>1.4</td>\n",
       "      <td>0</td>\n",
       "      <td>1</td>\n",
       "      <td>0</td>\n",
       "      <td>0</td>\n",
       "      <td>1</td>\n",
       "      <td>0</td>\n",
       "      <td>0</td>\n",
       "      <td>0</td>\n",
       "      <td>0</td>\n",
       "      <td>0</td>\n",
       "    </tr>\n",
       "    <tr>\n",
       "      <th>3</th>\n",
       "      <td>56</td>\n",
       "      <td>1</td>\n",
       "      <td>120</td>\n",
       "      <td>236</td>\n",
       "      <td>0</td>\n",
       "      <td>1</td>\n",
       "      <td>178</td>\n",
       "      <td>0.8</td>\n",
       "      <td>0</td>\n",
       "      <td>1</td>\n",
       "      <td>0</td>\n",
       "      <td>0</td>\n",
       "      <td>1</td>\n",
       "      <td>0</td>\n",
       "      <td>0</td>\n",
       "      <td>0</td>\n",
       "      <td>0</td>\n",
       "      <td>0</td>\n",
       "    </tr>\n",
       "    <tr>\n",
       "      <th>4</th>\n",
       "      <td>57</td>\n",
       "      <td>0</td>\n",
       "      <td>120</td>\n",
       "      <td>354</td>\n",
       "      <td>0</td>\n",
       "      <td>1</td>\n",
       "      <td>163</td>\n",
       "      <td>0.6</td>\n",
       "      <td>0</td>\n",
       "      <td>1</td>\n",
       "      <td>0</td>\n",
       "      <td>0</td>\n",
       "      <td>0</td>\n",
       "      <td>1</td>\n",
       "      <td>0</td>\n",
       "      <td>0</td>\n",
       "      <td>0</td>\n",
       "      <td>0</td>\n",
       "    </tr>\n",
       "    <tr>\n",
       "      <th>5</th>\n",
       "      <td>57</td>\n",
       "      <td>1</td>\n",
       "      <td>140</td>\n",
       "      <td>192</td>\n",
       "      <td>0</td>\n",
       "      <td>1</td>\n",
       "      <td>148</td>\n",
       "      <td>0.4</td>\n",
       "      <td>0</td>\n",
       "      <td>1</td>\n",
       "      <td>0</td>\n",
       "      <td>0</td>\n",
       "      <td>0</td>\n",
       "      <td>0</td>\n",
       "      <td>0</td>\n",
       "      <td>1</td>\n",
       "      <td>1</td>\n",
       "      <td>0</td>\n",
       "    </tr>\n",
       "    <tr>\n",
       "      <th>6</th>\n",
       "      <td>56</td>\n",
       "      <td>0</td>\n",
       "      <td>140</td>\n",
       "      <td>294</td>\n",
       "      <td>0</td>\n",
       "      <td>0</td>\n",
       "      <td>153</td>\n",
       "      <td>1.3</td>\n",
       "      <td>0</td>\n",
       "      <td>1</td>\n",
       "      <td>0</td>\n",
       "      <td>0</td>\n",
       "      <td>1</td>\n",
       "      <td>0</td>\n",
       "      <td>0</td>\n",
       "      <td>1</td>\n",
       "      <td>0</td>\n",
       "      <td>0</td>\n",
       "    </tr>\n",
       "    <tr>\n",
       "      <th>7</th>\n",
       "      <td>44</td>\n",
       "      <td>1</td>\n",
       "      <td>120</td>\n",
       "      <td>263</td>\n",
       "      <td>0</td>\n",
       "      <td>1</td>\n",
       "      <td>173</td>\n",
       "      <td>0.0</td>\n",
       "      <td>0</td>\n",
       "      <td>1</td>\n",
       "      <td>0</td>\n",
       "      <td>0</td>\n",
       "      <td>1</td>\n",
       "      <td>0</td>\n",
       "      <td>0</td>\n",
       "      <td>0</td>\n",
       "      <td>0</td>\n",
       "      <td>1</td>\n",
       "    </tr>\n",
       "    <tr>\n",
       "      <th>8</th>\n",
       "      <td>52</td>\n",
       "      <td>1</td>\n",
       "      <td>172</td>\n",
       "      <td>199</td>\n",
       "      <td>1</td>\n",
       "      <td>1</td>\n",
       "      <td>162</td>\n",
       "      <td>0.5</td>\n",
       "      <td>0</td>\n",
       "      <td>1</td>\n",
       "      <td>1</td>\n",
       "      <td>0</td>\n",
       "      <td>0</td>\n",
       "      <td>0</td>\n",
       "      <td>0</td>\n",
       "      <td>0</td>\n",
       "      <td>0</td>\n",
       "      <td>1</td>\n",
       "    </tr>\n",
       "    <tr>\n",
       "      <th>9</th>\n",
       "      <td>57</td>\n",
       "      <td>1</td>\n",
       "      <td>150</td>\n",
       "      <td>168</td>\n",
       "      <td>0</td>\n",
       "      <td>1</td>\n",
       "      <td>174</td>\n",
       "      <td>1.6</td>\n",
       "      <td>0</td>\n",
       "      <td>1</td>\n",
       "      <td>1</td>\n",
       "      <td>0</td>\n",
       "      <td>0</td>\n",
       "      <td>0</td>\n",
       "      <td>0</td>\n",
       "      <td>0</td>\n",
       "      <td>0</td>\n",
       "      <td>0</td>\n",
       "    </tr>\n",
       "  </tbody>\n",
       "</table>\n",
       "</div>"
      ],
      "text/plain": [
       "   age  sex  restbp  chol  fbs  restecg  hrateach  oldpeak  mvessel  target  \\\n",
       "0   63    1     145   233    1        0       150      2.3        0       1   \n",
       "1   37    1     130   250    0        1       187      3.5        0       1   \n",
       "2   41    0     130   204    0        0       172      1.4        0       1   \n",
       "3   56    1     120   236    0        1       178      0.8        0       1   \n",
       "4   57    0     120   354    0        1       163      0.6        0       1   \n",
       "5   57    1     140   192    0        1       148      0.4        0       1   \n",
       "6   56    0     140   294    0        0       153      1.3        0       1   \n",
       "7   44    1     120   263    0        1       173      0.0        0       1   \n",
       "8   52    1     172   199    1        1       162      0.5        0       1   \n",
       "9   57    1     150   168    0        1       174      1.6        0       1   \n",
       "\n",
       "   cp_atypical angina  cp_non-anginal pain  cp_typical angina  \\\n",
       "0                   0                    1                  0   \n",
       "1                   1                    0                  0   \n",
       "2                   0                    0                  1   \n",
       "3                   0                    0                  1   \n",
       "4                   0                    0                  0   \n",
       "5                   0                    0                  0   \n",
       "6                   0                    0                  1   \n",
       "7                   0                    0                  1   \n",
       "8                   1                    0                  0   \n",
       "9                   1                    0                  0   \n",
       "\n",
       "   exang_exercise induced angina  slope_flat  slope_upsloping  hrate_normal  \\\n",
       "0                              0           1                0             1   \n",
       "1                              0           1                0             0   \n",
       "2                              0           0                0             0   \n",
       "3                              0           0                0             0   \n",
       "4                              1           0                0             0   \n",
       "5                              0           0                1             1   \n",
       "6                              0           0                1             0   \n",
       "7                              0           0                0             0   \n",
       "8                              0           0                0             0   \n",
       "9                              0           0                0             0   \n",
       "\n",
       "   hrate_reversable defect  \n",
       "0                        0  \n",
       "1                        0  \n",
       "2                        0  \n",
       "3                        0  \n",
       "4                        0  \n",
       "5                        0  \n",
       "6                        0  \n",
       "7                        1  \n",
       "8                        1  \n",
       "9                        0  "
      ]
     },
     "execution_count": 148,
     "metadata": {},
     "output_type": "execute_result"
    }
   ],
   "source": [
    "df_new.cp = df_new.cp.map({0:\"asymptomatic\", 1: \"typical angina\", 2:\"atypical angina\", 3:\"non-anginal pain\"})\n",
    "df_new.exang = df_new.exang.map({0:\"exercise did not induce angina\", 1:\"exercise induced angina\"})\n",
    "df_new.slope = df_new.slope.map({0:\"flat\", 1:\"upsloping\", 2:\"downsloping\"})\n",
    "df_new.hrate = df_new.hrate.map({1:\"normal\",2:\"fixed defect\", 3:\"reversable defect\"})\n",
    "df_new = pd.get_dummies(df_new, drop_first = True)\n",
    "df_new.head(10)"
   ]
  },
  {
   "cell_type": "code",
   "execution_count": 153,
   "id": "82ca6d7a",
   "metadata": {},
   "outputs": [
    {
     "data": {
      "text/html": [
       "<div>\n",
       "<style scoped>\n",
       "    .dataframe tbody tr th:only-of-type {\n",
       "        vertical-align: middle;\n",
       "    }\n",
       "\n",
       "    .dataframe tbody tr th {\n",
       "        vertical-align: top;\n",
       "    }\n",
       "\n",
       "    .dataframe thead th {\n",
       "        text-align: right;\n",
       "    }\n",
       "</style>\n",
       "<table border=\"1\" class=\"dataframe\">\n",
       "  <thead>\n",
       "    <tr style=\"text-align: right;\">\n",
       "      <th></th>\n",
       "      <th>age</th>\n",
       "      <th>restbp</th>\n",
       "      <th>chol</th>\n",
       "      <th>hrateach</th>\n",
       "      <th>oldpeak</th>\n",
       "      <th>mvessel</th>\n",
       "      <th>target</th>\n",
       "      <th>cp_atypical angina</th>\n",
       "      <th>cp_non-anginal pain</th>\n",
       "      <th>cp_typical angina</th>\n",
       "      <th>exang_exercise induced angina</th>\n",
       "      <th>slope_flat</th>\n",
       "      <th>slope_upsloping</th>\n",
       "      <th>hrate_normal</th>\n",
       "      <th>hrate_reversable defect</th>\n",
       "      <th>sex</th>\n",
       "      <th>fbs</th>\n",
       "      <th>restecg</th>\n",
       "    </tr>\n",
       "  </thead>\n",
       "  <tbody>\n",
       "    <tr>\n",
       "      <th>0</th>\n",
       "      <td>63</td>\n",
       "      <td>145</td>\n",
       "      <td>233</td>\n",
       "      <td>150</td>\n",
       "      <td>2.3</td>\n",
       "      <td>0</td>\n",
       "      <td>1</td>\n",
       "      <td>0</td>\n",
       "      <td>1</td>\n",
       "      <td>0</td>\n",
       "      <td>0</td>\n",
       "      <td>1</td>\n",
       "      <td>0</td>\n",
       "      <td>1</td>\n",
       "      <td>0</td>\n",
       "      <td>1</td>\n",
       "      <td>1</td>\n",
       "      <td>0</td>\n",
       "    </tr>\n",
       "    <tr>\n",
       "      <th>1</th>\n",
       "      <td>37</td>\n",
       "      <td>130</td>\n",
       "      <td>250</td>\n",
       "      <td>187</td>\n",
       "      <td>3.5</td>\n",
       "      <td>0</td>\n",
       "      <td>1</td>\n",
       "      <td>1</td>\n",
       "      <td>0</td>\n",
       "      <td>0</td>\n",
       "      <td>0</td>\n",
       "      <td>1</td>\n",
       "      <td>0</td>\n",
       "      <td>0</td>\n",
       "      <td>0</td>\n",
       "      <td>1</td>\n",
       "      <td>0</td>\n",
       "      <td>1</td>\n",
       "    </tr>\n",
       "    <tr>\n",
       "      <th>2</th>\n",
       "      <td>41</td>\n",
       "      <td>130</td>\n",
       "      <td>204</td>\n",
       "      <td>172</td>\n",
       "      <td>1.4</td>\n",
       "      <td>0</td>\n",
       "      <td>1</td>\n",
       "      <td>0</td>\n",
       "      <td>0</td>\n",
       "      <td>1</td>\n",
       "      <td>0</td>\n",
       "      <td>0</td>\n",
       "      <td>0</td>\n",
       "      <td>0</td>\n",
       "      <td>0</td>\n",
       "      <td>0</td>\n",
       "      <td>0</td>\n",
       "      <td>0</td>\n",
       "    </tr>\n",
       "    <tr>\n",
       "      <th>3</th>\n",
       "      <td>56</td>\n",
       "      <td>120</td>\n",
       "      <td>236</td>\n",
       "      <td>178</td>\n",
       "      <td>0.8</td>\n",
       "      <td>0</td>\n",
       "      <td>1</td>\n",
       "      <td>0</td>\n",
       "      <td>0</td>\n",
       "      <td>1</td>\n",
       "      <td>0</td>\n",
       "      <td>0</td>\n",
       "      <td>0</td>\n",
       "      <td>0</td>\n",
       "      <td>0</td>\n",
       "      <td>1</td>\n",
       "      <td>0</td>\n",
       "      <td>1</td>\n",
       "    </tr>\n",
       "    <tr>\n",
       "      <th>4</th>\n",
       "      <td>57</td>\n",
       "      <td>120</td>\n",
       "      <td>354</td>\n",
       "      <td>163</td>\n",
       "      <td>0.6</td>\n",
       "      <td>0</td>\n",
       "      <td>1</td>\n",
       "      <td>0</td>\n",
       "      <td>0</td>\n",
       "      <td>0</td>\n",
       "      <td>1</td>\n",
       "      <td>0</td>\n",
       "      <td>0</td>\n",
       "      <td>0</td>\n",
       "      <td>0</td>\n",
       "      <td>0</td>\n",
       "      <td>0</td>\n",
       "      <td>1</td>\n",
       "    </tr>\n",
       "  </tbody>\n",
       "</table>\n",
       "</div>"
      ],
      "text/plain": [
       "   age  restbp  chol  hrateach  oldpeak  mvessel  target  cp_atypical angina  \\\n",
       "0   63     145   233       150      2.3        0       1                   0   \n",
       "1   37     130   250       187      3.5        0       1                   1   \n",
       "2   41     130   204       172      1.4        0       1                   0   \n",
       "3   56     120   236       178      0.8        0       1                   0   \n",
       "4   57     120   354       163      0.6        0       1                   0   \n",
       "\n",
       "   cp_non-anginal pain  cp_typical angina  exang_exercise induced angina  \\\n",
       "0                    1                  0                              0   \n",
       "1                    0                  0                              0   \n",
       "2                    0                  1                              0   \n",
       "3                    0                  1                              0   \n",
       "4                    0                  0                              1   \n",
       "\n",
       "   slope_flat  slope_upsloping  hrate_normal  hrate_reversable defect  sex  \\\n",
       "0           1                0             1                        0    1   \n",
       "1           1                0             0                        0    1   \n",
       "2           0                0             0                        0    0   \n",
       "3           0                0             0                        0    1   \n",
       "4           0                0             0                        0    0   \n",
       "\n",
       "   fbs  restecg  \n",
       "0    1        0  \n",
       "1    0        1  \n",
       "2    0        0  \n",
       "3    0        1  \n",
       "4    0        1  "
      ]
     },
     "execution_count": 153,
     "metadata": {},
     "output_type": "execute_result"
    }
   ],
   "source": [
    "col=list(df_new.columns.values)\n",
    "df_new = df_new.reindex(columns=['age','restbp','chol','hrateach','oldpeak',\n",
    " 'mvessel',\n",
    " 'target',\n",
    " 'cp_atypical angina',\n",
    " 'cp_non-anginal pain',\n",
    " 'cp_typical angina',\n",
    " 'exang_exercise induced angina',\n",
    " 'slope_flat',\n",
    " 'slope_upsloping',\n",
    " 'hrate_normal',\n",
    " 'hrate_reversable defect','sex','fbs','restecg',])\n",
    "df_new.head()"
   ]
  },
  {
   "cell_type": "code",
   "execution_count": 154,
   "id": "45e4cb7c-af29-4816-b278-ea9f76b3cab1",
   "metadata": {},
   "outputs": [
    {
     "data": {
      "text/plain": [
       "array([[ 63., 145., 233., ...,   1.,   1.,   0.],\n",
       "       [ 37., 130., 250., ...,   1.,   0.,   1.],\n",
       "       [ 41., 130., 204., ...,   0.,   0.,   0.],\n",
       "       ...,\n",
       "       [ 68., 144., 193., ...,   1.,   1.,   1.],\n",
       "       [ 57., 130., 131., ...,   1.,   0.,   1.],\n",
       "       [ 57., 130., 236., ...,   0.,   0.,   0.]])"
      ]
     },
     "execution_count": 154,
     "metadata": {},
     "output_type": "execute_result"
    }
   ],
   "source": [
    "X = df_new.drop(\"target\", 1).values\n",
    "y = df_new['target']\n",
    "X"
   ]
  },
  {
   "cell_type": "markdown",
   "id": "ef856751",
   "metadata": {},
   "source": [
    "Normalize features and split Train Test Data (80/20)"
   ]
  },
  {
   "cell_type": "code",
   "execution_count": 161,
   "id": "68f02441",
   "metadata": {},
   "outputs": [
    {
     "data": {
      "text/plain": [
       "array([[ 0.9521966 ,  0.76395577, -0.25633371,  0.01544279,  2.3       ,\n",
       "         0.        ,  0.        ,  1.        ,  0.        ,  0.        ,\n",
       "         1.        ,  0.        ,  1.        ,  0.        ,  1.        ,\n",
       "         1.        ,  0.        ],\n",
       "       [-1.91531289, -0.09273778,  0.07219949,  1.63347147,  3.5       ,\n",
       "         0.        ,  1.        ,  0.        ,  0.        ,  0.        ,\n",
       "         1.        ,  0.        ,  0.        ,  0.        ,  1.        ,\n",
       "         0.        ,  1.        ]])"
      ]
     },
     "execution_count": 161,
     "metadata": {},
     "output_type": "execute_result"
    }
   ],
   "source": [
    "from sklearn.preprocessing import StandardScaler\n",
    "X1=X[:,0:4] # numerical features that need normalization\n",
    "sc = StandardScaler()\n",
    "X1 = sc.fit_transform(X1)\n",
    "X[:,0:4]=X1\n",
    "X[:2,:]"
   ]
  },
  {
   "cell_type": "code",
   "execution_count": 158,
   "id": "eda547e3-4cbc-4b1a-a531-314f7003159a",
   "metadata": {},
   "outputs": [],
   "source": [
    "#from sklearn.preprocessing import LabelEncoder\n",
    "#le = LabelEncoder()\n",
    "#X[:,0] = le.fit_transform(X[:,0])\n",
    "\n",
    "from sklearn.model_selection import train_test_split\n",
    "X_train, X_test, y_train, y_test = train_test_split(X, y, test_size = 0.20, random_state = 0)"
   ]
  },
  {
   "cell_type": "markdown",
   "id": "f196ec39",
   "metadata": {},
   "source": [
    "Algorithms for Classification\n",
    "\n",
    "- Logistic Regeression \n",
    "- Naive Bayes"
   ]
  },
  {
   "cell_type": "markdown",
   "id": "73d90b82",
   "metadata": {},
   "source": [
    "#### Logistic Regression"
   ]
  },
  {
   "cell_type": "code",
   "execution_count": 162,
   "id": "df0661dd",
   "metadata": {},
   "outputs": [
    {
     "data": {
      "text/plain": [
       "array([0, 0, 0, 0, 0, 1, 0, 0, 0, 0, 1, 1, 0, 1, 1, 1, 0, 1, 0, 1, 1, 0,\n",
       "       0, 0, 1, 0, 0, 0, 1, 1, 0, 0, 1, 1, 1, 0, 0, 1, 0, 0, 1, 1, 0, 0,\n",
       "       0, 0, 1, 1, 0, 1, 1, 0, 1, 1, 1, 0, 1, 1, 1, 1, 0])"
      ]
     },
     "execution_count": 162,
     "metadata": {},
     "output_type": "execute_result"
    }
   ],
   "source": [
    "from sklearn.linear_model import LogisticRegression\n",
    "from sklearn.metrics import confusion_matrix\n",
    "LR = LogisticRegression(C=0.01, solver='liblinear').fit(X_train,y_train)\n",
    "y_pred_LR = LR.predict(X_test)\n",
    "y_pred_LR"
   ]
  },
  {
   "cell_type": "markdown",
   "id": "4af35d59",
   "metadata": {},
   "source": [
    "#### Naive Bayes"
   ]
  },
  {
   "cell_type": "code",
   "execution_count": 163,
   "id": "03c679e8-7f07-4606-908d-222d4ee5d5d8",
   "metadata": {},
   "outputs": [
    {
     "data": {
      "text/plain": [
       "array([0, 1, 1, 0, 0, 0, 0, 0, 0, 0, 1, 1, 0, 1, 1, 1, 0, 1, 0, 1, 1, 0,\n",
       "       0, 0, 1, 0, 0, 1, 1, 1, 1, 0, 1, 1, 1, 0, 0, 1, 0, 0, 0, 1, 0, 0,\n",
       "       1, 1, 1, 1, 0, 1, 1, 1, 1, 0, 1, 0, 1, 1, 1, 1, 1])"
      ]
     },
     "execution_count": 163,
     "metadata": {},
     "output_type": "execute_result"
    }
   ],
   "source": [
    "from sklearn.naive_bayes import GaussianNB\n",
    "classifier = GaussianNB()\n",
    "classifier.fit(X_train, y_train)\n",
    "\n",
    "y_pred_NB  =  classifier.predict(X_test)\n",
    "y_pred_NB"
   ]
  },
  {
   "cell_type": "markdown",
   "id": "ab8566d2",
   "metadata": {},
   "source": [
    "##### Confusion Matrix and Accuracy"
   ]
  },
  {
   "cell_type": "code",
   "execution_count": 197,
   "id": "7d6a70fa-6f1e-473c-a0b0-2c388a12b8ae",
   "metadata": {},
   "outputs": [
    {
     "name": "stdout",
     "output_type": "stream",
     "text": [
      "NB Accuracy score is 0.8360655737704918\n",
      "LR Accuracy score is 0.819672131147541\n"
     ]
    }
   ],
   "source": [
    "from sklearn.metrics import confusion_matrix,accuracy_score\n",
    "\n",
    "ac_LR = accuracy_score(y_test,y_pred_LR)\n",
    "ac_NB = accuracy_score(y_test,y_pred_NB)\n",
    "print('NB Accuracy score is {}'.format(ac_NB))\n",
    "print('LR Accuracy score is {}'.format(ac_LR))"
   ]
  },
  {
   "cell_type": "markdown",
   "id": "620f5815",
   "metadata": {},
   "source": [
    "Naive Bayes algorithm provides a higher accuracy"
   ]
  },
  {
   "cell_type": "markdown",
   "id": "26b1b88a",
   "metadata": {},
   "source": [
    "Confusion Matrix:"
   ]
  },
  {
   "cell_type": "code",
   "execution_count": 199,
   "id": "44d7b5ce",
   "metadata": {},
   "outputs": [
    {
     "data": {
      "text/plain": [
       "Text(80.90000000000006, 0.5, 'Predicted')"
      ]
     },
     "execution_count": 199,
     "metadata": {},
     "output_type": "execute_result"
    },
    {
     "data": {
      "image/png": "[encoded data removed]",
      "text/plain": [
       "<Figure size 432x288 with 2 Axes>"
      ]
     },
     "metadata": {},
     "output_type": "display_data"
    }
   ],
   "source": [
    "cm_NB = confusion_matrix(y_test, y_pred_NB)\n",
    "names_NB = np.unique(y_pred_NB)\n",
    "sns.heatmap(cm_NB, square=True, annot=True, fmt='d', cbar=True,\n",
    "            xticklabels=names, yticklabels=names_NB)\n",
    "plt.xlabel('Truth')\n",
    "plt.ylabel('Predicted')"
   ]
  },
  {
   "cell_type": "code",
   "execution_count": 207,
   "id": "30368a72",
   "metadata": {},
   "outputs": [
    {
     "name": "stdout",
     "output_type": "stream",
     "text": [
      "The precision rate is:  0.8529411764705882\n",
      "The recall rate is:  0.8529411764705882\n"
     ]
    }
   ],
   "source": [
    "tn, fp, fn, tp = confusion_matrix(y_test, y_pred_NB).ravel()\n",
    "precision_rate = tp / (tp + fp)\n",
    "recall_rate = tp / (tp + fn)\n",
    "\n",
    "print(\"The precision rate is: \", precision_rate)\n",
    "print(\"The recall rate is: \", recall_rate)"
   ]
  },
  {
   "cell_type": "markdown",
   "id": "56be33c5",
   "metadata": {},
   "source": [
    "Here, because of severity of heart disease and the high risk of mortality, false negatives can have high consequences"
   ]
  }
 ],
 "metadata": {
  "kernelspec": {
   "display_name": "Python 3",
   "language": "python",
   "name": "python3"
  },
  "language_info": {
   "codemirror_mode": {
    "name": "ipython",
    "version": 3
   },
   "file_extension": ".py",
   "mimetype": "text/x-python",
   "name": "python",
   "nbconvert_exporter": "python",
   "pygments_lexer": "ipython3",
   "version": "3.8.8"
  }
 },
 "nbformat": 4,
 "nbformat_minor": 5
}
